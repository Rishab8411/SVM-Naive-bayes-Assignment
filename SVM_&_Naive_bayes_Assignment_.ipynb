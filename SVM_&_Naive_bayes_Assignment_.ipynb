{
  "cells": [
    {
      "cell_type": "markdown",
      "source": [
        "# **SVM & Naive bayes**\n",
        "\n",
        "---\n",
        "# ***Theoretical***\n",
        "\n",
        "---\n",
        "\n",
        "\n",
        "\n",
        "---\n",
        "\n",
        "\n",
        "\n"
      ],
      "metadata": {
        "id": "YigupBvV0nSL"
      },
      "id": "YigupBvV0nSL"
    },
    {
      "cell_type": "markdown",
      "id": "575018a7",
      "metadata": {
        "id": "575018a7"
      },
      "source": [
        "### 1. What is a Support Vector Machine (SVM)?"
      ]
    },
    {
      "cell_type": "markdown",
      "id": "f59dd51a",
      "metadata": {
        "id": "f59dd51a"
      },
      "source": [
        "A Support Vector Machine is a supervised machine learning algorithm used for classification and regression tasks. It tries to find the optimal hyperplane that best separates the data into different classes."
      ]
    },
    {
      "cell_type": "markdown",
      "id": "d7006a1b",
      "metadata": {
        "id": "d7006a1b"
      },
      "source": [
        "### 2. What is the difference between Hard Margin and Soft Margin SVM?"
      ]
    },
    {
      "cell_type": "markdown",
      "id": "80ac7398",
      "metadata": {
        "id": "80ac7398"
      },
      "source": [
        "Hard Margin SVM tries to separate data with a perfect margin (no errors), which only works for linearly separable data. Soft Margin SVM allows some misclassifications to find a better generalization for noisy or non-separable data."
      ]
    },
    {
      "cell_type": "markdown",
      "id": "1cd19c00",
      "metadata": {
        "id": "1cd19c00"
      },
      "source": [
        "### 3. What is the mathematical intuition behind SVM?"
      ]
    },
    {
      "cell_type": "markdown",
      "id": "20476e04",
      "metadata": {
        "id": "20476e04"
      },
      "source": [
        "SVM aims to maximize the margin between the support vectors (closest data points to the hyperplane) while minimizing classification errors. It solves an optimization problem using Lagrange multipliers."
      ]
    },
    {
      "cell_type": "markdown",
      "id": "b57fa75e",
      "metadata": {
        "id": "b57fa75e"
      },
      "source": [
        "### 4. What is the role of Lagrange Multipliers in SVM?"
      ]
    },
    {
      "cell_type": "markdown",
      "id": "5c880765",
      "metadata": {
        "id": "5c880765"
      },
      "source": [
        "Lagrange multipliers are used to convert the constrained optimization problem into a form that can be solved efficiently using the dual form."
      ]
    },
    {
      "cell_type": "markdown",
      "id": "5049c290",
      "metadata": {
        "id": "5049c290"
      },
      "source": [
        "### 5. What are Support Vectors in SVM?"
      ]
    },
    {
      "cell_type": "markdown",
      "id": "a62c8f90",
      "metadata": {
        "id": "a62c8f90"
      },
      "source": [
        "Support vectors are the data points that lie closest to the decision boundary and are most important in defining the hyperplane."
      ]
    },
    {
      "cell_type": "markdown",
      "id": "9c84e72b",
      "metadata": {
        "id": "9c84e72b"
      },
      "source": [
        "### 6. What is a Support Vector Classifier (SVC)?"
      ]
    },
    {
      "cell_type": "markdown",
      "id": "b5dda484",
      "metadata": {
        "id": "b5dda484"
      },
      "source": [
        "SVC is the classification implementation of SVM in scikit-learn that can use different kernels to separate data."
      ]
    },
    {
      "cell_type": "markdown",
      "id": "7e31cd74",
      "metadata": {
        "id": "7e31cd74"
      },
      "source": [
        "### 7. What is a Support Vector Regressor (SVR)?"
      ]
    },
    {
      "cell_type": "markdown",
      "id": "8b3152e3",
      "metadata": {
        "id": "8b3152e3"
      },
      "source": [
        "SVR is the regression version of SVM, which tries to fit the data within a margin of tolerance."
      ]
    },
    {
      "cell_type": "markdown",
      "id": "469833d1",
      "metadata": {
        "id": "469833d1"
      },
      "source": [
        "### 8. What is the Kernel Trick in SVM?"
      ]
    },
    {
      "cell_type": "markdown",
      "id": "7a1127d4",
      "metadata": {
        "id": "7a1127d4"
      },
      "source": [
        "The Kernel Trick allows SVM to operate in high-dimensional space without explicitly mapping the data, enabling it to find non-linear decision boundaries."
      ]
    },
    {
      "cell_type": "markdown",
      "id": "8d37695e",
      "metadata": {
        "id": "8d37695e"
      },
      "source": [
        "### 9. Compare Linear Kernel, Polynomial Kernel, and RBF Kernel?"
      ]
    },
    {
      "cell_type": "markdown",
      "id": "f0fda49f",
      "metadata": {
        "id": "f0fda49f"
      },
      "source": [
        "- Linear Kernel: for linearly separable data.\n",
        "- Polynomial Kernel: for curved boundaries.\n",
        "- RBF Kernel: best for complex non-linear data."
      ]
    },
    {
      "cell_type": "markdown",
      "id": "2d4acb89",
      "metadata": {
        "id": "2d4acb89"
      },
      "source": [
        "### 10. What is the effect of the C parameter in SVM?"
      ]
    },
    {
      "cell_type": "markdown",
      "id": "447afa02",
      "metadata": {
        "id": "447afa02"
      },
      "source": [
        "C controls the trade-off between margin size and misclassification. Small C gives a wide margin (more tolerance), large C gives a narrow margin (less tolerance)."
      ]
    },
    {
      "cell_type": "markdown",
      "id": "bd485a57",
      "metadata": {
        "id": "bd485a57"
      },
      "source": [
        "### 11. What is the role of the Gamma parameter in RBF Kernel SVM?"
      ]
    },
    {
      "cell_type": "markdown",
      "id": "b16facfc",
      "metadata": {
        "id": "b16facfc"
      },
      "source": [
        "Gamma defines how far the influence of a single training example reaches. Low gamma = far reach (simple model), high gamma = close reach (complex model)."
      ]
    },
    {
      "cell_type": "markdown",
      "id": "95bed809",
      "metadata": {
        "id": "95bed809"
      },
      "source": [
        "### 12. What is the Naïve Bayes classifier, and why is it called 'Naïve'?"
      ]
    },
    {
      "cell_type": "markdown",
      "id": "d09fc959",
      "metadata": {
        "id": "d09fc959"
      },
      "source": [
        "It is based on Bayes' Theorem and assumes all features are independent, which is a naive assumption."
      ]
    },
    {
      "cell_type": "markdown",
      "id": "513dc5e1",
      "metadata": {
        "id": "513dc5e1"
      },
      "source": [
        "### 13. What is Bayes’ Theorem?"
      ]
    },
    {
      "cell_type": "markdown",
      "id": "ed559213",
      "metadata": {
        "id": "ed559213"
      },
      "source": [
        "P(A|B) = [P(B|A) * P(A)] / P(B) — It allows updating probability of a hypothesis based on new evidence."
      ]
    },
    {
      "cell_type": "markdown",
      "id": "54c894fa",
      "metadata": {
        "id": "54c894fa"
      },
      "source": [
        "### 14. Explain the differences between Gaussian Naïve Bayes, Multinomial Naïve Bayes, and Bernoulli Naïve Bayes?"
      ]
    },
    {
      "cell_type": "markdown",
      "id": "b15bb1aa",
      "metadata": {
        "id": "b15bb1aa"
      },
      "source": [
        "- Gaussian: for continuous data\n",
        "- Multinomial: for count data\n",
        "- Bernoulli: for binary data"
      ]
    },
    {
      "cell_type": "markdown",
      "id": "b49814b0",
      "metadata": {
        "id": "b49814b0"
      },
      "source": [
        "### 15. When should you use Gaussian Naïve Bayes over other variants?"
      ]
    },
    {
      "cell_type": "markdown",
      "id": "998962fd",
      "metadata": {
        "id": "998962fd"
      },
      "source": [
        "Use it when features are continuous and normally distributed."
      ]
    },
    {
      "cell_type": "markdown",
      "id": "d601412d",
      "metadata": {
        "id": "d601412d"
      },
      "source": [
        "### 16. What are the key assumptions made by Naïve Bayes?"
      ]
    },
    {
      "cell_type": "markdown",
      "id": "c738be1d",
      "metadata": {
        "id": "c738be1d"
      },
      "source": [
        "That all features are conditionally independent given the target class."
      ]
    },
    {
      "cell_type": "markdown",
      "id": "2cd4ae34",
      "metadata": {
        "id": "2cd4ae34"
      },
      "source": [
        "### 17. What are the advantages and disadvantages of Naïve Bayes?"
      ]
    },
    {
      "cell_type": "markdown",
      "id": "076120e8",
      "metadata": {
        "id": "076120e8"
      },
      "source": [
        "+ Fast, simple, works on small data\n",
        "- Assumes independence, not always accurate for correlated features"
      ]
    },
    {
      "cell_type": "markdown",
      "id": "27315f03",
      "metadata": {
        "id": "27315f03"
      },
      "source": [
        "### 18. Why is Naïve Bayes a good choice for text classification?"
      ]
    },
    {
      "cell_type": "markdown",
      "id": "351f63bc",
      "metadata": {
        "id": "351f63bc"
      },
      "source": [
        "Because text features (words) are high-dimensional and mostly independent."
      ]
    },
    {
      "cell_type": "markdown",
      "id": "86581898",
      "metadata": {
        "id": "86581898"
      },
      "source": [
        "### 19. Compare SVM and Naïve Bayes for classification tasks?"
      ]
    },
    {
      "cell_type": "markdown",
      "id": "e2274b0e",
      "metadata": {
        "id": "e2274b0e"
      },
      "source": [
        "SVM is more accurate but slower. Naïve Bayes is faster and works well on text but may be less accurate."
      ]
    },
    {
      "cell_type": "markdown",
      "id": "dc7adc86",
      "metadata": {
        "id": "dc7adc86"
      },
      "source": [
        "### 20. How does Laplace Smoothing help in Naïve Bayes?"
      ]
    },
    {
      "cell_type": "markdown",
      "id": "c9f892cf",
      "metadata": {
        "id": "c9f892cf"
      },
      "source": [
        "It avoids zero probability by adding a small value (like 1) to frequency counts."
      ]
    },
    {
      "cell_type": "markdown",
      "source": [
        "# ***Practical***\n",
        "\n",
        "---\n",
        "\n",
        "\n",
        "\n",
        "---\n",
        "\n"
      ],
      "metadata": {
        "id": "qOnZe1cX09qN"
      },
      "id": "qOnZe1cX09qN"
    },
    {
      "cell_type": "markdown",
      "source": [
        "21. Write a Python program to train an SVM Classifier on the Iris dataset and evaluate accuracy?"
      ],
      "metadata": {
        "id": "wxXBP8_K1Lk_"
      },
      "id": "wxXBP8_K1Lk_"
    },
    {
      "cell_type": "code",
      "source": [
        "from sklearn.datasets import load_iris\n",
        "from sklearn.model_selection import train_test_split\n",
        "from sklearn.svm import SVC\n",
        "from sklearn.metrics import accuracy_score\n",
        "\n",
        "data = load_iris()\n",
        "X = data.data\n",
        "y = data.target\n",
        "\n",
        "X_train, X_test, y_train, y_test = train_test_split(X, y, test_size=0.2, random_state=42)\n",
        "\n",
        "model = SVC()\n",
        "model.fit(X_train, y_train)\n",
        "y_pred = model.predict(X_test)\n",
        "\n",
        "accuracy = accuracy_score(y_test, y_pred)\n",
        "print(\"Accuracy on Iris dataset:\", accuracy)\n"
      ],
      "metadata": {
        "colab": {
          "base_uri": "https://localhost:8080/"
        },
        "id": "BQWxw-QE1VFG",
        "outputId": "b28797ac-c90f-4bb6-a112-37b6de76254f"
      },
      "id": "BQWxw-QE1VFG",
      "execution_count": 1,
      "outputs": [
        {
          "output_type": "stream",
          "name": "stdout",
          "text": [
            "Accuracy on Iris dataset: 1.0\n"
          ]
        }
      ]
    },
    {
      "cell_type": "markdown",
      "source": [
        "22. Write a Python program to train two SVM classifiers with Linear and RBF kernels on the Wine dataset, then compare their accuracies?"
      ],
      "metadata": {
        "id": "C21xAxkP1cZw"
      },
      "id": "C21xAxkP1cZw"
    },
    {
      "cell_type": "code",
      "source": [
        "from sklearn.datasets import load_wine\n",
        "from sklearn.model_selection import train_test_split\n",
        "from sklearn.svm import SVC\n",
        "from sklearn.metrics import accuracy_score\n",
        "\n",
        "# Load data\n",
        "wine = load_wine()\n",
        "X = wine.data\n",
        "y = wine.target\n",
        "\n",
        "# Split data\n",
        "X_train, X_test, y_train, y_test = train_test_split(X, y, test_size=0.2, random_state=42)\n",
        "\n",
        "# Linear Kernel\n",
        "linear_model = SVC(kernel='linear')\n",
        "linear_model.fit(X_train, y_train)\n",
        "linear_accuracy = accuracy_score(y_test, linear_model.predict(X_test))\n",
        "\n",
        "# RBF Kernel\n",
        "rbf_model = SVC(kernel='rbf')\n",
        "rbf_model.fit(X_train, y_train)\n",
        "rbf_accuracy = accuracy_score(y_test, rbf_model.predict(X_test))\n",
        "\n",
        "print(\"Linear Kernel Accuracy:\", linear_accuracy)\n",
        "print(\"RBF Kernel Accuracy:\", rbf_accuracy)\n"
      ],
      "metadata": {
        "colab": {
          "base_uri": "https://localhost:8080/"
        },
        "id": "n00ZiVyg1kEr",
        "outputId": "6c2cbcde-38db-4d79-ec56-36bf150343d3"
      },
      "id": "n00ZiVyg1kEr",
      "execution_count": 2,
      "outputs": [
        {
          "output_type": "stream",
          "name": "stdout",
          "text": [
            "Linear Kernel Accuracy: 1.0\n",
            "RBF Kernel Accuracy: 0.8055555555555556\n"
          ]
        }
      ]
    },
    {
      "cell_type": "markdown",
      "source": [
        "23. Train an SVM Regressor (SVR) on a housing dataset and evaluate it using Mean Squared Error (MSE)"
      ],
      "metadata": {
        "id": "F2TmJQ3B1uSW"
      },
      "id": "F2TmJQ3B1uSW"
    },
    {
      "cell_type": "code",
      "source": [
        "from sklearn.datasets import fetch_california_housing\n",
        "from sklearn.model_selection import train_test_split\n",
        "from sklearn.svm import SVR\n",
        "from sklearn.metrics import mean_squared_error\n",
        "\n",
        "# Load dataset\n",
        "data = fetch_california_housing()\n",
        "X = data.data\n",
        "y = data.target\n",
        "\n",
        "# Split data\n",
        "X_train, X_test, y_train, y_test = train_test_split(X, y, test_size=0.2, random_state=42)\n",
        "\n",
        "# Train SVR model\n",
        "model = SVR()\n",
        "model.fit(X_train, y_train)\n",
        "\n",
        "# Predict and evaluate\n",
        "y_pred = model.predict(X_test)\n",
        "mse = mean_squared_error(y_test, y_pred)\n",
        "print(\"Mean Squared Error:\", mse)\n"
      ],
      "metadata": {
        "colab": {
          "base_uri": "https://localhost:8080/"
        },
        "id": "8rg23TxH1vN7",
        "outputId": "6d209776-92f2-4903-a196-b6258661b178"
      },
      "id": "8rg23TxH1vN7",
      "execution_count": 3,
      "outputs": [
        {
          "output_type": "stream",
          "name": "stdout",
          "text": [
            "Mean Squared Error: 1.3320115421348744\n"
          ]
        }
      ]
    },
    {
      "cell_type": "markdown",
      "source": [
        "24. Train an SVM Classifier with a Polynomial Kernel and visualize the decision boundary"
      ],
      "metadata": {
        "id": "rBKvMaVV13xT"
      },
      "id": "rBKvMaVV13xT"
    },
    {
      "cell_type": "code",
      "source": [
        "import matplotlib.pyplot as plt\n",
        "from sklearn import datasets\n",
        "from sklearn.svm import SVC\n",
        "from sklearn.preprocessing import StandardScaler\n",
        "from sklearn.model_selection import train_test_split\n",
        "import numpy as np\n",
        "\n",
        "# Load dataset (only 2 classes for easy visualization)\n",
        "X, y = datasets.make_moons(n_samples=100, noise=0.1, random_state=42)\n",
        "\n",
        "# Scale features\n",
        "scaler = StandardScaler()\n",
        "X = scaler.fit_transform(X)\n",
        "\n",
        "# Train model\n",
        "model = SVC(kernel='poly', degree=3)\n",
        "model.fit(X, y)\n",
        "\n",
        "# Plot decision boundary\n",
        "def plot_boundary(model, X, y):\n",
        "    h = .02\n",
        "    x_min, x_max = X[:, 0].min()-1, X[:, 0].max()+1\n",
        "    y_min, y_max = X[:, 1].min()-1, X[:, 1].max()+1\n",
        "    xx, yy = np.meshgrid(np.arange(x_min, x_max, h),\n",
        "                         np.arange(y_min, y_max, h))\n",
        "    Z = model.predict(np.c_[xx.ravel(), yy.ravel()])\n",
        "    Z = Z.reshape(xx.shape)\n",
        "\n",
        "    plt.contourf(xx, yy, Z, alpha=0.4)\n",
        "    plt.scatter(X[:, 0], X[:, 1], c=y, s=20, edgecolors='k')\n",
        "    plt.title(\"Polynomial Kernel SVM\")\n",
        "    plt.show()\n",
        "\n",
        "plot_boundary(model, X, y)\n"
      ],
      "metadata": {
        "colab": {
          "base_uri": "https://localhost:8080/",
          "height": 452
        },
        "id": "hwiCK1KA16Tv",
        "outputId": "4bfa3d38-6424-428e-8cd7-d9bb866c4170"
      },
      "id": "hwiCK1KA16Tv",
      "execution_count": 4,
      "outputs": [
        {
          "output_type": "display_data",
          "data": {
            "text/plain": [
              "<Figure size 640x480 with 1 Axes>"
            ],
            "image/png": "[encoded data removed]"
          },
          "metadata": {}
        }
      ]
    },
    {
      "cell_type": "markdown",
      "source": [
        "25. Train a Gaussian Naïve Bayes classifier on the Breast Cancer dataset and evaluate accuracy"
      ],
      "metadata": {
        "id": "g0cX5m8p1-VA"
      },
      "id": "g0cX5m8p1-VA"
    },
    {
      "cell_type": "code",
      "source": [
        "from sklearn.datasets import load_breast_cancer\n",
        "from sklearn.model_selection import train_test_split\n",
        "from sklearn.naive_bayes import GaussianNB\n",
        "from sklearn.metrics import accuracy_score\n",
        "\n",
        "# Load dataset\n",
        "data = load_breast_cancer()\n",
        "X = data.data\n",
        "y = data.target\n",
        "\n",
        "# Split data\n",
        "X_train, X_test, y_train, y_test = train_test_split(X, y, test_size=0.2, random_state=42)\n",
        "\n",
        "# Train model\n",
        "model = GaussianNB()\n",
        "model.fit(X_train, y_train)\n",
        "\n",
        "# Predict and evaluate\n",
        "y_pred = model.predict(X_test)\n",
        "accuracy = accuracy_score(y_test, y_pred)\n",
        "print(\"Accuracy:\", accuracy)\n"
      ],
      "metadata": {
        "colab": {
          "base_uri": "https://localhost:8080/"
        },
        "id": "mjV2DCd22Aew",
        "outputId": "7ef6503f-5d0f-4d61-f476-485dd5c30904"
      },
      "id": "mjV2DCd22Aew",
      "execution_count": 5,
      "outputs": [
        {
          "output_type": "stream",
          "name": "stdout",
          "text": [
            "Accuracy: 0.9736842105263158\n"
          ]
        }
      ]
    },
    {
      "cell_type": "markdown",
      "source": [
        "27. Write a Python program to train an SVM Classifier with different C values and compare the decision boundaries visually?"
      ],
      "metadata": {
        "id": "ENVdy-Cs2EoO"
      },
      "id": "ENVdy-Cs2EoO"
    },
    {
      "cell_type": "code",
      "source": [
        "import numpy as np\n",
        "import matplotlib.pyplot as plt\n",
        "from sklearn.datasets import make_classification\n",
        "from sklearn.svm import SVC\n",
        "\n",
        "# Create a simple dataset\n",
        "X, y = make_classification(n_samples=100, n_features=2, n_informative=2,\n",
        "                           n_redundant=0, n_clusters_per_class=1, random_state=42)\n",
        "\n",
        "# Try different C values\n",
        "C_values = [0.01, 1, 100]\n",
        "\n",
        "plt.figure(figsize=(15, 4))\n",
        "for i, C in enumerate(C_values):\n",
        "    model = SVC(C=C, kernel='linear')\n",
        "    model.fit(X, y)\n",
        "\n",
        "    # Plot decision boundary\n",
        "    plt.subplot(1, 3, i+1)\n",
        "    plt.title(f'C = {C}')\n",
        "    ax = plt.gca()\n",
        "    xlim = ax.get_xlim()\n",
        "    ylim = ax.get_ylim()\n",
        "\n",
        "    xx, yy = np.meshgrid(np.linspace(*xlim, num=200),\n",
        "                         np.linspace(*ylim, num=200))\n",
        "    Z = model.decision_function(np.c_[xx.ravel(), yy.ravel()])\n",
        "    Z = Z.reshape(xx.shape)\n",
        "\n",
        "    plt.contourf(xx, yy, Z > 0, alpha=0.3)\n",
        "    plt.scatter(X[:, 0], X[:, 1], c=y, edgecolors='k')\n",
        "plt.tight_layout()\n",
        "plt.show()\n"
      ],
      "metadata": {
        "colab": {
          "base_uri": "https://localhost:8080/",
          "height": 387
        },
        "id": "QR09k3xn2RxC",
        "outputId": "bfe9881c-a4f2-4c89-b76d-eeffa2056c48"
      },
      "id": "QR09k3xn2RxC",
      "execution_count": 6,
      "outputs": [
        {
          "output_type": "display_data",
          "data": {
            "text/plain": [
              "<Figure size 1500x400 with 3 Axes>"
            ],
            "image/png": "[encoded data removed]"
          },
          "metadata": {}
        }
      ]
    },
    {
      "cell_type": "markdown",
      "source": [
        "28. Write a Python program to train a Bernoulli Naïve Bayes classifier for binary classification on a dataset with binary features?"
      ],
      "metadata": {
        "id": "AOEZnCVb2WMz"
      },
      "id": "AOEZnCVb2WMz"
    },
    {
      "cell_type": "code",
      "source": [
        "from sklearn.datasets import make_classification\n",
        "from sklearn.naive_bayes import BernoulliNB\n",
        "from sklearn.model_selection import train_test_split\n",
        "from sklearn.metrics import accuracy_score\n",
        "import numpy as np\n",
        "\n",
        "# Binary features dataset\n",
        "X, y = make_classification(n_samples=1000, n_features=20, n_informative=15, random_state=42)\n",
        "X_binary = np.where(X > 0, 1, 0)  # Convert features to binary\n",
        "\n",
        "X_train, X_test, y_train, y_test = train_test_split(X_binary, y, test_size=0.2)\n",
        "\n",
        "model = BernoulliNB()\n",
        "model.fit(X_train, y_train)\n",
        "\n",
        "y_pred = model.predict(X_test)\n",
        "print(\"Accuracy:\", accuracy_score(y_test, y_pred))\n"
      ],
      "metadata": {
        "colab": {
          "base_uri": "https://localhost:8080/"
        },
        "id": "pE5lBBkE2cRq",
        "outputId": "bd0951b5-8c48-4cd6-8e19-89eec5260ab1"
      },
      "id": "pE5lBBkE2cRq",
      "execution_count": 7,
      "outputs": [
        {
          "output_type": "stream",
          "name": "stdout",
          "text": [
            "Accuracy: 0.77\n"
          ]
        }
      ]
    },
    {
      "cell_type": "markdown",
      "source": [
        "29. Write a Python program to apply feature scaling before training an SVM model and compare results with unscaled data?"
      ],
      "metadata": {
        "id": "k6BNjWZ72fgP"
      },
      "id": "k6BNjWZ72fgP"
    },
    {
      "cell_type": "code",
      "source": [
        "from sklearn.datasets import load_iris\n",
        "from sklearn.model_selection import train_test_split\n",
        "from sklearn.svm import SVC\n",
        "from sklearn.metrics import accuracy_score\n",
        "from sklearn.preprocessing import StandardScaler\n",
        "\n",
        "X, y = load_iris(return_X_y=True)\n",
        "X_train, X_test, y_train, y_test = train_test_split(X, y, test_size=0.3)\n",
        "\n",
        "# Without Scaling\n",
        "model_unscaled = SVC()\n",
        "model_unscaled.fit(X_train, y_train)\n",
        "acc_unscaled = accuracy_score(y_test, model_unscaled.predict(X_test))\n",
        "\n",
        "# With Scaling\n",
        "scaler = StandardScaler()\n",
        "X_train_scaled = scaler.fit_transform(X_train)\n",
        "X_test_scaled = scaler.transform(X_test)\n",
        "\n",
        "model_scaled = SVC()\n",
        "model_scaled.fit(X_train_scaled, y_train)\n",
        "acc_scaled = accuracy_score(y_test, model_scaled.predict(X_test_scaled))\n",
        "\n",
        "print(\"Accuracy without scaling:\", acc_unscaled)\n",
        "print(\"Accuracy with scaling:\", acc_scaled)\n"
      ],
      "metadata": {
        "colab": {
          "base_uri": "https://localhost:8080/"
        },
        "id": "p-K47NYh2mal",
        "outputId": "918b04a6-2a1a-41f2-ea8a-2793c17304c4"
      },
      "id": "p-K47NYh2mal",
      "execution_count": 8,
      "outputs": [
        {
          "output_type": "stream",
          "name": "stdout",
          "text": [
            "Accuracy without scaling: 0.9555555555555556\n",
            "Accuracy with scaling: 0.9333333333333333\n"
          ]
        }
      ]
    },
    {
      "cell_type": "markdown",
      "source": [
        "30. Write a Python program to train a Gaussian Naïve Bayes model and compare the predictions before and after Laplace Smoothing?"
      ],
      "metadata": {
        "id": "z9bSqK172qaN"
      },
      "id": "z9bSqK172qaN"
    },
    {
      "cell_type": "code",
      "source": [
        "from sklearn.datasets import load_breast_cancer\n",
        "from sklearn.model_selection import train_test_split\n",
        "from sklearn.naive_bayes import GaussianNB\n",
        "from sklearn.metrics import accuracy_score\n",
        "import numpy as np\n",
        "\n",
        "X, y = load_breast_cancer(return_X_y=True)\n",
        "X_train, X_test, y_train, y_test = train_test_split(X, y, test_size=0.2)\n",
        "\n",
        "# Normal Gaussian NB\n",
        "model = GaussianNB()\n",
        "model.fit(X_train, y_train)\n",
        "pred_normal = model.predict(X_test)\n",
        "\n",
        "# Add Laplace smoothing (simulate by adding small constant)\n",
        "model_laplace = GaussianNB(var_smoothing=1e-9)\n",
        "model_laplace.fit(X_train, y_train)\n",
        "pred_laplace = model_laplace.predict(X_test)\n",
        "\n",
        "print(\"Normal Accuracy:\", accuracy_score(y_test, pred_normal))\n",
        "print(\"Laplace Smoothing Accuracy:\", accuracy_score(y_test, pred_laplace))\n"
      ],
      "metadata": {
        "colab": {
          "base_uri": "https://localhost:8080/"
        },
        "id": "01UtKQ7l2vVu",
        "outputId": "c4bc0bdc-4307-4920-b21e-31856cc1f083"
      },
      "id": "01UtKQ7l2vVu",
      "execution_count": 9,
      "outputs": [
        {
          "output_type": "stream",
          "name": "stdout",
          "text": [
            "Normal Accuracy: 0.9649122807017544\n",
            "Laplace Smoothing Accuracy: 0.9649122807017544\n"
          ]
        }
      ]
    },
    {
      "cell_type": "markdown",
      "source": [
        "31. Write a Python program to train an SVM Classifier and use GridSearchCV to tune the hyperparameters (C, gamma, kernel)?"
      ],
      "metadata": {
        "id": "waprjcGe5jO7"
      },
      "id": "waprjcGe5jO7"
    },
    {
      "cell_type": "code",
      "source": [
        "from sklearn.model_selection import GridSearchCV\n",
        "from sklearn.datasets import load_iris\n",
        "from sklearn.svm import SVC\n",
        "from sklearn.model_selection import train_test_split\n",
        "\n",
        "X, y = load_iris(return_X_y=True)\n",
        "X_train, X_test, y_train, y_test = train_test_split(X, y, test_size=0.3)\n",
        "\n",
        "param_grid = {\n",
        "    'C': [0.1, 1, 10],\n",
        "    'gamma': ['scale', 0.01, 0.1],\n",
        "    'kernel': ['linear', 'rbf']\n",
        "}\n",
        "\n",
        "grid = GridSearchCV(SVC(), param_grid, cv=3)\n",
        "grid.fit(X_train, y_train)\n",
        "\n",
        "print(\"Best parameters:\", grid.best_params_)\n",
        "print(\"Best score:\", grid.best_score_)\n"
      ],
      "metadata": {
        "colab": {
          "base_uri": "https://localhost:8080/"
        },
        "id": "yB8-UF5P5qgP",
        "outputId": "d25695e5-66ec-421b-8037-7d8d3576acf4"
      },
      "id": "yB8-UF5P5qgP",
      "execution_count": 10,
      "outputs": [
        {
          "output_type": "stream",
          "name": "stdout",
          "text": [
            "Best parameters: {'C': 10, 'gamma': 0.1, 'kernel': 'rbf'}\n",
            "Best score: 1.0\n"
          ]
        }
      ]
    },
    {
      "cell_type": "markdown",
      "source": [
        "32. Write a Python program to train an SVM Classifier on an imbalanced dataset and apply class weighting and check it improve accuracy?"
      ],
      "metadata": {
        "id": "0Vw1tA6Q5vfM"
      },
      "id": "0Vw1tA6Q5vfM"
    },
    {
      "cell_type": "code",
      "source": [
        "from sklearn.datasets import make_classification\n",
        "from sklearn.svm import SVC\n",
        "from sklearn.model_selection import train_test_split\n",
        "from sklearn.metrics import accuracy_score\n",
        "\n",
        "X, y = make_classification(n_classes=2, weights=[0.9, 0.1], n_samples=1000, n_features=20, random_state=42)\n",
        "X_train, X_test, y_train, y_test = train_test_split(X, y, test_size=0.3)\n",
        "\n",
        "# Without class_weight\n",
        "model1 = SVC()\n",
        "model1.fit(X_train, y_train)\n",
        "print(\"Accuracy without class_weight:\", accuracy_score(y_test, model1.predict(X_test)))\n",
        "\n",
        "# With class_weight='balanced'\n",
        "model2 = SVC(class_weight='balanced')\n",
        "model2.fit(X_train, y_train)\n",
        "print(\"Accuracy with class_weight='balanced':\", accuracy_score(y_test, model2.predict(X_test)))\n"
      ],
      "metadata": {
        "colab": {
          "base_uri": "https://localhost:8080/"
        },
        "id": "_JInM35x50wX",
        "outputId": "0784169b-232a-4a98-9be5-31ce5fa3a79e"
      },
      "id": "_JInM35x50wX",
      "execution_count": 11,
      "outputs": [
        {
          "output_type": "stream",
          "name": "stdout",
          "text": [
            "Accuracy without class_weight: 0.9466666666666667\n",
            "Accuracy with class_weight='balanced': 0.9233333333333333\n"
          ]
        }
      ]
    },
    {
      "cell_type": "markdown",
      "source": [
        "33. Write a Python program to implement a Naïve Bayes classifier for spam detection using email data?"
      ],
      "metadata": {
        "id": "OFU5ap1N54qg"
      },
      "id": "OFU5ap1N54qg"
    },
    {
      "cell_type": "code",
      "source": [
        "from sklearn.model_selection import train_test_split\n",
        "from sklearn.feature_extraction.text import CountVectorizer\n",
        "from sklearn.naive_bayes import MultinomialNB\n",
        "from sklearn.metrics import accuracy_score\n",
        "\n",
        "# Sample data\n",
        "emails = [\"Free money now!!!\", \"Hi, how are you?\", \"Win prizes now\", \"Meeting tomorrow\", \"Limited offer!\", \"Lunch at 1 PM?\"]\n",
        "labels = [1, 0, 1, 0, 1, 0]  # 1=Spam, 0=Ham\n",
        "\n",
        "X_train, X_test, y_train, y_test = train_test_split(emails, labels, test_size=0.3)\n",
        "\n",
        "vectorizer = CountVectorizer()\n",
        "X_train_vec = vectorizer.fit_transform(X_train)\n",
        "X_test_vec = vectorizer.transform(X_test)\n",
        "\n",
        "model = MultinomialNB()\n",
        "model.fit(X_train_vec, y_train)\n",
        "\n",
        "predictions = model.predict(X_test_vec)\n",
        "print(\"Spam Detection Accuracy:\", accuracy_score(y_test, predictions))\n"
      ],
      "metadata": {
        "colab": {
          "base_uri": "https://localhost:8080/"
        },
        "id": "GruUVXVj5_4B",
        "outputId": "a42e0ee7-c29f-4225-f987-c4826010b10e"
      },
      "id": "GruUVXVj5_4B",
      "execution_count": 12,
      "outputs": [
        {
          "output_type": "stream",
          "name": "stdout",
          "text": [
            "Spam Detection Accuracy: 0.5\n"
          ]
        }
      ]
    },
    {
      "cell_type": "markdown",
      "source": [
        "34. Write a Python program to train an SVM Classifier and a Naïve Bayes Classifier on the same dataset and compare their accuracy?"
      ],
      "metadata": {
        "id": "BFYrdNnk6EZ8"
      },
      "id": "BFYrdNnk6EZ8"
    },
    {
      "cell_type": "code",
      "source": [
        "from sklearn.datasets import load_iris\n",
        "from sklearn.svm import SVC\n",
        "from sklearn.naive_bayes import GaussianNB\n",
        "from sklearn.model_selection import train_test_split\n",
        "from sklearn.metrics import accuracy_score\n",
        "\n",
        "X, y = load_iris(return_X_y=True)\n",
        "X_train, X_test, y_train, y_test = train_test_split(X, y, test_size=0.2)\n",
        "\n",
        "# SVM\n",
        "svm = SVC()\n",
        "svm.fit(X_train, y_train)\n",
        "acc_svm = accuracy_score(y_test, svm.predict(X_test))\n",
        "\n",
        "# Naïve Bayes\n",
        "nb = GaussianNB()\n",
        "nb.fit(X_train, y_train)\n",
        "acc_nb = accuracy_score(y_test, nb.predict(X_test))\n",
        "\n",
        "print(\"SVM Accuracy:\", acc_svm)\n",
        "print(\"Naïve Bayes Accuracy:\", acc_nb)\n"
      ],
      "metadata": {
        "colab": {
          "base_uri": "https://localhost:8080/"
        },
        "id": "R5RZGwRN6KcT",
        "outputId": "ae962df0-7991-41ec-fdab-1e829a49ccf1"
      },
      "id": "R5RZGwRN6KcT",
      "execution_count": 13,
      "outputs": [
        {
          "output_type": "stream",
          "name": "stdout",
          "text": [
            "SVM Accuracy: 1.0\n",
            "Naïve Bayes Accuracy: 0.9666666666666667\n"
          ]
        }
      ]
    },
    {
      "cell_type": "markdown",
      "source": [
        "35. Write a Python program to perform feature selection before training a Naïve Bayes classifier and compare results?"
      ],
      "metadata": {
        "id": "xJ3EFJ3J6P7Q"
      },
      "id": "xJ3EFJ3J6P7Q"
    },
    {
      "cell_type": "code",
      "source": [
        "from sklearn.datasets import load_breast_cancer\n",
        "from sklearn.naive_bayes import GaussianNB\n",
        "from sklearn.model_selection import train_test_split\n",
        "from sklearn.feature_selection import SelectKBest, f_classif\n",
        "from sklearn.metrics import accuracy_score\n",
        "\n",
        "X, y = load_breast_cancer(return_X_y=True)\n",
        "X_train, X_test, y_train, y_test = train_test_split(X, y)\n",
        "\n",
        "# Without feature selection\n",
        "model = GaussianNB()\n",
        "model.fit(X_train, y_train)\n",
        "acc_full = accuracy_score(y_test, model.predict(X_test))\n",
        "\n",
        "# With feature selection\n",
        "selector = SelectKBest(score_func=f_classif, k=10)\n",
        "X_train_selected = selector.fit_transform(X_train, y_train)\n",
        "X_test_selected = selector.transform(X_test)\n",
        "\n",
        "model_selected = GaussianNB()\n",
        "model_selected.fit(X_train_selected, y_train)\n",
        "acc_selected = accuracy_score(y_test, model_selected.predict(X_test_selected))\n",
        "\n",
        "print(\"Accuracy without selection:\", acc_full)\n",
        "print(\"Accuracy with feature selection:\", acc_selected)\n"
      ],
      "metadata": {
        "colab": {
          "base_uri": "https://localhost:8080/"
        },
        "id": "ASJSHxs-6V6m",
        "outputId": "b8660124-6225-4885-f8ed-93b9ae496c89"
      },
      "id": "ASJSHxs-6V6m",
      "execution_count": 14,
      "outputs": [
        {
          "output_type": "stream",
          "name": "stdout",
          "text": [
            "Accuracy without selection: 0.916083916083916\n",
            "Accuracy with feature selection: 0.8951048951048951\n"
          ]
        }
      ]
    },
    {
      "cell_type": "markdown",
      "source": [
        "36. Write a Python program to train an SVM Classifier using One-vs-Rest (OvR) and One-vs-One (OvO) strategies on the Wine dataset and compare their accuracy?"
      ],
      "metadata": {
        "id": "QLhPuCJC6Z59"
      },
      "id": "QLhPuCJC6Z59"
    },
    {
      "cell_type": "code",
      "source": [
        "from sklearn.datasets import load_wine\n",
        "from sklearn.model_selection import train_test_split\n",
        "from sklearn.svm import SVC\n",
        "from sklearn.multiclass import OneVsRestClassifier, OneVsOneClassifier\n",
        "from sklearn.metrics import accuracy_score\n",
        "\n",
        "X, y = load_wine(return_X_y=True)\n",
        "X_train, X_test, y_train, y_test = train_test_split(X, y)\n",
        "\n",
        "# One-vs-Rest\n",
        "ovr_model = OneVsRestClassifier(SVC())\n",
        "ovr_model.fit(X_train, y_train)\n",
        "acc_ovr = accuracy_score(y_test, ovr_model.predict(X_test))\n",
        "\n",
        "# One-vs-One\n",
        "ovo_model = OneVsOneClassifier(SVC())\n",
        "ovo_model.fit(X_train, y_train)\n",
        "acc_ovo = accuracy_score(y_test, ovo_model.predict(X_test))\n",
        "\n",
        "print(\"OvR Accuracy:\", acc_ovr)\n",
        "print(\"OvO Accuracy:\", acc_ovo)\n"
      ],
      "metadata": {
        "colab": {
          "base_uri": "https://localhost:8080/"
        },
        "id": "bt7PkSGH6fXn",
        "outputId": "a5e2f685-d8b1-4613-88d2-980c15a3e417"
      },
      "id": "bt7PkSGH6fXn",
      "execution_count": 15,
      "outputs": [
        {
          "output_type": "stream",
          "name": "stdout",
          "text": [
            "OvR Accuracy: 0.7333333333333333\n",
            "OvO Accuracy: 0.6888888888888889\n"
          ]
        }
      ]
    },
    {
      "cell_type": "markdown",
      "source": [
        "37. Write a Python program to train an SVM Classifier using Linear, Polynomial, and RBF kernels on the Breast Cancer dataset and compare their accuracy?"
      ],
      "metadata": {
        "id": "te277K3A6lNa"
      },
      "id": "te277K3A6lNa"
    },
    {
      "cell_type": "code",
      "source": [
        "from sklearn.datasets import load_breast_cancer\n",
        "from sklearn.model_selection import train_test_split\n",
        "from sklearn.svm import SVC\n",
        "from sklearn.metrics import accuracy_score\n",
        "\n",
        "X, y = load_breast_cancer(return_X_y=True)\n",
        "X_train, X_test, y_train, y_test = train_test_split(X, y)\n",
        "\n",
        "kernels = ['linear', 'poly', 'rbf']\n",
        "for kernel in kernels:\n",
        "    model = SVC(kernel=kernel)\n",
        "    model.fit(X_train, y_train)\n",
        "    acc = accuracy_score(y_test, model.predict(X_test))\n",
        "    print(f\"Accuracy with {kernel} kernel:\", acc)\n"
      ],
      "metadata": {
        "colab": {
          "base_uri": "https://localhost:8080/"
        },
        "id": "aVZ1JK8U6q0u",
        "outputId": "fc38b1ce-24d7-4cdd-fb66-3517fe104ed6"
      },
      "id": "aVZ1JK8U6q0u",
      "execution_count": 16,
      "outputs": [
        {
          "output_type": "stream",
          "name": "stdout",
          "text": [
            "Accuracy with linear kernel: 0.958041958041958\n",
            "Accuracy with poly kernel: 0.916083916083916\n",
            "Accuracy with rbf kernel: 0.9230769230769231\n"
          ]
        }
      ]
    },
    {
      "cell_type": "markdown",
      "source": [
        "38. Write a Python program to train an SVM Classifier using Stratified K-Fold Cross-Validation and compute the average accuracy?"
      ],
      "metadata": {
        "id": "qcnaul9g69Lr"
      },
      "id": "qcnaul9g69Lr"
    },
    {
      "cell_type": "code",
      "source": [
        "from sklearn.model_selection import StratifiedKFold\n",
        "from sklearn.svm import SVC\n",
        "from sklearn.datasets import load_iris\n",
        "from sklearn.metrics import accuracy_score\n",
        "import numpy as np\n",
        "\n",
        "X, y = load_iris(return_X_y=True)\n",
        "skf = StratifiedKFold(n_splits=5)\n",
        "accuracies = []\n",
        "\n",
        "for train_idx, test_idx in skf.split(X, y):\n",
        "    X_train, X_test = X[train_idx], X[test_idx]\n",
        "    y_train, y_test = y[train_idx], y[test_idx]\n",
        "    model = SVC()\n",
        "    model.fit(X_train, y_train)\n",
        "    acc = accuracy_score(y_test, model.predict(X_test))\n",
        "    accuracies.append(acc)\n",
        "\n",
        "print(\"Average accuracy:\", np.mean(accuracies))\n"
      ],
      "metadata": {
        "colab": {
          "base_uri": "https://localhost:8080/"
        },
        "id": "LSrT-t7s7Fjt",
        "outputId": "d055328d-497b-43bd-e143-a0869a091f2d"
      },
      "id": "LSrT-t7s7Fjt",
      "execution_count": 17,
      "outputs": [
        {
          "output_type": "stream",
          "name": "stdout",
          "text": [
            "Average accuracy: 0.9666666666666666\n"
          ]
        }
      ]
    },
    {
      "cell_type": "markdown",
      "source": [
        "39. Write a Python program to train a Naïve Bayes classifier using different prior probabilities and compare performance?"
      ],
      "metadata": {
        "id": "xIgtQIda7KEn"
      },
      "id": "xIgtQIda7KEn"
    },
    {
      "cell_type": "code",
      "source": [
        "from sklearn.datasets import load_breast_cancer\n",
        "from sklearn.naive_bayes import GaussianNB\n",
        "from sklearn.model_selection import train_test_split\n",
        "from sklearn.metrics import accuracy_score\n",
        "\n",
        "X, y = load_breast_cancer(return_X_y=True)\n",
        "X_train, X_test, y_train, y_test = train_test_split(X, y)\n",
        "\n",
        "# No prior\n",
        "model1 = GaussianNB()\n",
        "model1.fit(X_train, y_train)\n",
        "acc1 = accuracy_score(y_test, model1.predict(X_test))\n",
        "\n",
        "# Custom prior\n",
        "model2 = GaussianNB(priors=[0.3, 0.7])\n",
        "model2.fit(X_train, y_train)\n",
        "acc2 = accuracy_score(y_test, model2.predict(X_test))\n",
        "\n",
        "print(\"Default prior accuracy:\", acc1)\n",
        "print(\"Custom prior accuracy:\", acc2)\n"
      ],
      "metadata": {
        "colab": {
          "base_uri": "https://localhost:8080/"
        },
        "id": "HsdqMf3d7RDn",
        "outputId": "17e9f651-76bb-48bc-8c17-43c89540a42b"
      },
      "id": "HsdqMf3d7RDn",
      "execution_count": 18,
      "outputs": [
        {
          "output_type": "stream",
          "name": "stdout",
          "text": [
            "Default prior accuracy: 0.9440559440559441\n",
            "Custom prior accuracy: 0.9440559440559441\n"
          ]
        }
      ]
    },
    {
      "cell_type": "markdown",
      "source": [
        "40. Write a Python program to perform Recursive Feature Elimination (RFE) before training an SVM Classifier and compare accuracy?"
      ],
      "metadata": {
        "id": "mtokMj1z7VPk"
      },
      "id": "mtokMj1z7VPk"
    },
    {
      "cell_type": "code",
      "source": [
        "from sklearn.datasets import load_breast_cancer\n",
        "from sklearn.model_selection import train_test_split\n",
        "from sklearn.feature_selection import RFE\n",
        "from sklearn.svm import SVC\n",
        "from sklearn.metrics import accuracy_score\n",
        "\n",
        "X, y = load_breast_cancer(return_X_y=True)\n",
        "X_train, X_test, y_train, y_test = train_test_split(X, y)\n",
        "\n",
        "# With RFE\n",
        "model = SVC(kernel='linear')\n",
        "rfe = RFE(model, n_features_to_select=10)\n",
        "X_train_rfe = rfe.fit_transform(X_train, y_train)\n",
        "X_test_rfe = rfe.transform(X_test)\n",
        "\n",
        "model.fit(X_train_rfe, y_train)\n",
        "acc = accuracy_score(y_test, model.predict(X_test_rfe))\n",
        "print(\"Accuracy with RFE:\", acc)\n"
      ],
      "metadata": {
        "colab": {
          "base_uri": "https://localhost:8080/"
        },
        "id": "HZN2lOqF7aPS",
        "outputId": "cc4ee990-c6d9-44f2-eb2e-e7ebc2f07ee5"
      },
      "id": "HZN2lOqF7aPS",
      "execution_count": 19,
      "outputs": [
        {
          "output_type": "stream",
          "name": "stdout",
          "text": [
            "Accuracy with RFE: 0.965034965034965\n"
          ]
        }
      ]
    },
    {
      "cell_type": "markdown",
      "source": [
        "41. Write a Python program to train an SVM Classifier and evaluate its performance using Precision, Recall, and F1-Score instead of accuracy?"
      ],
      "metadata": {
        "id": "qSTL1NOb7gPy"
      },
      "id": "qSTL1NOb7gPy"
    },
    {
      "cell_type": "code",
      "source": [
        "from sklearn.datasets import load_iris\n",
        "from sklearn.model_selection import train_test_split\n",
        "from sklearn.svm import SVC\n",
        "from sklearn.metrics import classification_report\n",
        "\n",
        "X, y = load_iris(return_X_y=True)\n",
        "X_train, X_test, y_train, y_test = train_test_split(X, y)\n",
        "\n",
        "model = SVC()\n",
        "model.fit(X_train, y_train)\n",
        "y_pred = model.predict(X_test)\n",
        "\n",
        "print(classification_report(y_test, y_pred))\n"
      ],
      "metadata": {
        "colab": {
          "base_uri": "https://localhost:8080/"
        },
        "id": "TLCH37hZ7lj2",
        "outputId": "14610fd7-4b57-4970-ce58-25fd854123ba"
      },
      "id": "TLCH37hZ7lj2",
      "execution_count": 20,
      "outputs": [
        {
          "output_type": "stream",
          "name": "stdout",
          "text": [
            "              precision    recall  f1-score   support\n",
            "\n",
            "           0       1.00      1.00      1.00        14\n",
            "           1       1.00      1.00      1.00        13\n",
            "           2       1.00      1.00      1.00        11\n",
            "\n",
            "    accuracy                           1.00        38\n",
            "   macro avg       1.00      1.00      1.00        38\n",
            "weighted avg       1.00      1.00      1.00        38\n",
            "\n"
          ]
        }
      ]
    },
    {
      "cell_type": "markdown",
      "source": [
        "42. Write a Python program to train a Naïve Bayes Classifier and evaluate its performance using Log Loss (Cross-Entropy Loss)?"
      ],
      "metadata": {
        "id": "RsCNZEFX7rE9"
      },
      "id": "RsCNZEFX7rE9"
    },
    {
      "cell_type": "code",
      "source": [
        "from sklearn.datasets import load_breast_cancer\n",
        "from sklearn.naive_bayes import GaussianNB\n",
        "from sklearn.model_selection import train_test_split\n",
        "from sklearn.metrics import log_loss\n",
        "\n",
        "X, y = load_breast_cancer(return_X_y=True)\n",
        "X_train, X_test, y_train, y_test = train_test_split(X, y)\n",
        "\n",
        "model = GaussianNB()\n",
        "model.fit(X_train, y_train)\n",
        "probs = model.predict_proba(X_test)\n",
        "\n",
        "print(\"Log Loss:\", log_loss(y_test, probs))\n"
      ],
      "metadata": {
        "colab": {
          "base_uri": "https://localhost:8080/"
        },
        "id": "kFdt7Lo47x-f",
        "outputId": "fbd6cfe3-f474-4cb7-8c5b-e65ad70596cc"
      },
      "id": "kFdt7Lo47x-f",
      "execution_count": 21,
      "outputs": [
        {
          "output_type": "stream",
          "name": "stdout",
          "text": [
            "Log Loss: 0.6897036474672975\n"
          ]
        }
      ]
    },
    {
      "cell_type": "markdown",
      "source": [
        "43. Write a Python program to train an SVM Classifier and visualize the Confusion Matrix using seaborn?"
      ],
      "metadata": {
        "id": "V-y0-6Tv71nw"
      },
      "id": "V-y0-6Tv71nw"
    },
    {
      "cell_type": "code",
      "source": [
        "from sklearn.datasets import load_iris\n",
        "from sklearn.model_selection import train_test_split\n",
        "from sklearn.svm import SVC\n",
        "from sklearn.metrics import confusion_matrix\n",
        "import seaborn as sns\n",
        "import matplotlib.pyplot as plt\n",
        "\n",
        "X, y = load_iris(return_X_y=True)\n",
        "X_train, X_test, y_train, y_test = train_test_split(X, y)\n",
        "\n",
        "model = SVC()\n",
        "model.fit(X_train, y_train)\n",
        "y_pred = model.predict(X_test)\n",
        "\n",
        "cm = confusion_matrix(y_test, y_pred)\n",
        "sns.heatmap(cm, annot=True, cmap='Blues')\n",
        "plt.title(\"Confusion Matrix\")\n",
        "plt.xlabel(\"Predicted\")\n",
        "plt.ylabel(\"Actual\")\n",
        "plt.show()\n"
      ],
      "metadata": {
        "colab": {
          "base_uri": "https://localhost:8080/",
          "height": 472
        },
        "id": "C_VrzO-w8CcQ",
        "outputId": "e789d28a-acd0-4b46-fd0d-67702f8f3704"
      },
      "id": "C_VrzO-w8CcQ",
      "execution_count": 22,
      "outputs": [
        {
          "output_type": "display_data",
          "data": {
            "text/plain": [
              "<Figure size 640x480 with 2 Axes>"
            ],
            "image/png": "[encoded data removed]"
          },
          "metadata": {}
        }
      ]
    },
    {
      "cell_type": "markdown",
      "source": [
        "44. Write a Python program to train an SVM Regressor (SVR) and evaluate its performance using Mean Absolute Error (MAE) instead of MSE?"
      ],
      "metadata": {
        "id": "aHohGlq98KGp"
      },
      "id": "aHohGlq98KGp"
    },
    {
      "cell_type": "code",
      "source": [
        "from sklearn.datasets import fetch_california_housing\n",
        "from sklearn.model_selection import train_test_split\n",
        "from sklearn.svm import SVR\n",
        "from sklearn.metrics import mean_absolute_error\n",
        "\n",
        "X, y = fetch_california_housing(return_X_y=True)\n",
        "X_train, X_test, y_train, y_test = train_test_split(X, y)\n",
        "\n",
        "model = SVR()\n",
        "model.fit(X_train, y_train)\n",
        "y_pred = model.predict(X_test)\n",
        "\n",
        "print(\"Mean Absolute Error:\", mean_absolute_error(y_test, y_pred))\n"
      ],
      "metadata": {
        "colab": {
          "base_uri": "https://localhost:8080/"
        },
        "id": "LIqvbc608NV8",
        "outputId": "dbfee458-8334-4258-da02-6ab683736bed"
      },
      "id": "LIqvbc608NV8",
      "execution_count": 23,
      "outputs": [
        {
          "output_type": "stream",
          "name": "stdout",
          "text": [
            "Mean Absolute Error: 0.8615663626403236\n"
          ]
        }
      ]
    },
    {
      "cell_type": "markdown",
      "source": [
        "45. Write a Python program to train a Naïve Bayes classifier and evaluate its performance using the ROC-AUC score?"
      ],
      "metadata": {
        "id": "AgX6b8778VH3"
      },
      "id": "AgX6b8778VH3"
    },
    {
      "cell_type": "code",
      "source": [
        "from sklearn.datasets import load_breast_cancer\n",
        "from sklearn.naive_bayes import GaussianNB\n",
        "from sklearn.model_selection import train_test_split\n",
        "from sklearn.metrics import roc_auc_score\n",
        "\n",
        "X, y = load_breast_cancer(return_X_y=True)\n",
        "X_train, X_test, y_train, y_test = train_test_split(X, y)\n",
        "\n",
        "model = GaussianNB()\n",
        "model.fit(X_train, y_train)\n",
        "probs = model.predict_proba(X_test)[:, 1]\n",
        "\n",
        "print(\"ROC-AUC Score:\", roc_auc_score(y_test, probs))\n"
      ],
      "metadata": {
        "colab": {
          "base_uri": "https://localhost:8080/"
        },
        "id": "lKirwbVz8atP",
        "outputId": "5fa3bda0-056a-46d2-c1d9-09fe613157a8"
      },
      "id": "lKirwbVz8atP",
      "execution_count": 24,
      "outputs": [
        {
          "output_type": "stream",
          "name": "stdout",
          "text": [
            "ROC-AUC Score: 0.9900793650793651\n"
          ]
        }
      ]
    },
    {
      "cell_type": "markdown",
      "source": [
        "46. Write a Python program to train an SVM Classifier and visualize the Precision-Recall Curve?"
      ],
      "metadata": {
        "id": "IjYwxPqG8iBA"
      },
      "id": "IjYwxPqG8iBA"
    },
    {
      "cell_type": "code",
      "source": [
        "from sklearn.datasets import load_breast_cancer\n",
        "from sklearn.model_selection import train_test_split\n",
        "from sklearn.svm import SVC\n",
        "from sklearn.metrics import precision_recall_curve\n",
        "import matplotlib.pyplot as plt\n",
        "\n",
        "X, y = load_breast_cancer(return_X_y=True)\n",
        "X_train, X_test, y_train, y_test = train_test_split(X, y)\n",
        "\n",
        "model = SVC(probability=True)\n",
        "model.fit(X_train, y_train)\n",
        "probs = model.predict_proba(X_test)[:, 1]\n",
        "\n",
        "precision, recall, _ = precision_recall_curve(y_test, probs)\n",
        "\n",
        "plt.plot(recall, precision)\n",
        "plt.xlabel('Recall')\n",
        "plt.ylabel('Precision')\n",
        "plt.title('Precision-Recall Curve')\n",
        "plt.grid()\n",
        "plt.show()\n"
      ],
      "metadata": {
        "id": "_1GhqlcB8nkB",
        "outputId": "f2c91f0d-8840-4bfa-c880-0013da0ac620",
        "colab": {
          "base_uri": "https://localhost:8080/",
          "height": 472
        }
      },
      "id": "_1GhqlcB8nkB",
      "execution_count": 25,
      "outputs": [
        {
          "output_type": "display_data",
          "data": {
            "text/plain": [
              "<Figure size 640x480 with 1 Axes>"
            ],
            "image/png": "[encoded data removed]"
          },
          "metadata": {}
        }
      ]
    }
  ],
  "metadata": {
    "colab": {
      "provenance": []
    },
    "language_info": {
      "name": "python"
    },
    "kernelspec": {
      "name": "python3",
      "display_name": "Python 3"
    }
  },
  "nbformat": 4,
  "nbformat_minor": 5
}